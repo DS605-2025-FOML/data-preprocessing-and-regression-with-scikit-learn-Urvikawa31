{
 "cells": [
  {
   "cell_type": "code",
   "execution_count": 7,
   "id": "f4ee4f1d",
   "metadata": {},
   "outputs": [],
   "source": [
    "import numpy as np\n",
    "import pandas as pd\n",
    "import matplotlib.pyplot as plt\n",
    "import seaborn as sns"
   ]
  },
  {
   "cell_type": "code",
   "execution_count": 8,
   "id": "80785a8b",
   "metadata": {},
   "outputs": [
    {
     "data": {
      "text/html": [
       "<div>\n",
       "<style scoped>\n",
       "    .dataframe tbody tr th:only-of-type {\n",
       "        vertical-align: middle;\n",
       "    }\n",
       "\n",
       "    .dataframe tbody tr th {\n",
       "        vertical-align: top;\n",
       "    }\n",
       "\n",
       "    .dataframe thead th {\n",
       "        text-align: right;\n",
       "    }\n",
       "</style>\n",
       "<table border=\"1\" class=\"dataframe\">\n",
       "  <thead>\n",
       "    <tr style=\"text-align: right;\">\n",
       "      <th></th>\n",
       "      <th>id</th>\n",
       "      <th>date</th>\n",
       "      <th>price</th>\n",
       "      <th>bedrooms</th>\n",
       "      <th>bathrooms</th>\n",
       "      <th>sqft_living</th>\n",
       "      <th>sqft_lot</th>\n",
       "      <th>floors</th>\n",
       "      <th>waterfront</th>\n",
       "      <th>view</th>\n",
       "      <th>...</th>\n",
       "      <th>grade</th>\n",
       "      <th>sqft_above</th>\n",
       "      <th>sqft_basement</th>\n",
       "      <th>yr_built</th>\n",
       "      <th>yr_renovated</th>\n",
       "      <th>zipcode</th>\n",
       "      <th>lat</th>\n",
       "      <th>long</th>\n",
       "      <th>sqft_living15</th>\n",
       "      <th>sqft_lot15</th>\n",
       "    </tr>\n",
       "  </thead>\n",
       "  <tbody>\n",
       "    <tr>\n",
       "      <th>0</th>\n",
       "      <td>7129300520</td>\n",
       "      <td>20141013T000000</td>\n",
       "      <td>221900.0</td>\n",
       "      <td>3</td>\n",
       "      <td>1.00</td>\n",
       "      <td>1180</td>\n",
       "      <td>5650</td>\n",
       "      <td>1.0</td>\n",
       "      <td>0</td>\n",
       "      <td>0</td>\n",
       "      <td>...</td>\n",
       "      <td>7</td>\n",
       "      <td>1180</td>\n",
       "      <td>0</td>\n",
       "      <td>1955</td>\n",
       "      <td>0</td>\n",
       "      <td>98178</td>\n",
       "      <td>47.5112</td>\n",
       "      <td>-122.257</td>\n",
       "      <td>1340</td>\n",
       "      <td>5650</td>\n",
       "    </tr>\n",
       "    <tr>\n",
       "      <th>1</th>\n",
       "      <td>6414100192</td>\n",
       "      <td>20141209T000000</td>\n",
       "      <td>538000.0</td>\n",
       "      <td>3</td>\n",
       "      <td>2.25</td>\n",
       "      <td>2570</td>\n",
       "      <td>7242</td>\n",
       "      <td>2.0</td>\n",
       "      <td>0</td>\n",
       "      <td>0</td>\n",
       "      <td>...</td>\n",
       "      <td>7</td>\n",
       "      <td>2170</td>\n",
       "      <td>400</td>\n",
       "      <td>1951</td>\n",
       "      <td>1991</td>\n",
       "      <td>98125</td>\n",
       "      <td>47.7210</td>\n",
       "      <td>-122.319</td>\n",
       "      <td>1690</td>\n",
       "      <td>7639</td>\n",
       "    </tr>\n",
       "    <tr>\n",
       "      <th>2</th>\n",
       "      <td>5631500400</td>\n",
       "      <td>20150225T000000</td>\n",
       "      <td>180000.0</td>\n",
       "      <td>2</td>\n",
       "      <td>1.00</td>\n",
       "      <td>770</td>\n",
       "      <td>10000</td>\n",
       "      <td>1.0</td>\n",
       "      <td>0</td>\n",
       "      <td>0</td>\n",
       "      <td>...</td>\n",
       "      <td>6</td>\n",
       "      <td>770</td>\n",
       "      <td>0</td>\n",
       "      <td>1933</td>\n",
       "      <td>0</td>\n",
       "      <td>98028</td>\n",
       "      <td>47.7379</td>\n",
       "      <td>-122.233</td>\n",
       "      <td>2720</td>\n",
       "      <td>8062</td>\n",
       "    </tr>\n",
       "    <tr>\n",
       "      <th>3</th>\n",
       "      <td>2487200875</td>\n",
       "      <td>20141209T000000</td>\n",
       "      <td>604000.0</td>\n",
       "      <td>4</td>\n",
       "      <td>3.00</td>\n",
       "      <td>1960</td>\n",
       "      <td>5000</td>\n",
       "      <td>1.0</td>\n",
       "      <td>0</td>\n",
       "      <td>0</td>\n",
       "      <td>...</td>\n",
       "      <td>7</td>\n",
       "      <td>1050</td>\n",
       "      <td>910</td>\n",
       "      <td>1965</td>\n",
       "      <td>0</td>\n",
       "      <td>98136</td>\n",
       "      <td>47.5208</td>\n",
       "      <td>-122.393</td>\n",
       "      <td>1360</td>\n",
       "      <td>5000</td>\n",
       "    </tr>\n",
       "    <tr>\n",
       "      <th>4</th>\n",
       "      <td>1954400510</td>\n",
       "      <td>20150218T000000</td>\n",
       "      <td>510000.0</td>\n",
       "      <td>3</td>\n",
       "      <td>2.00</td>\n",
       "      <td>1680</td>\n",
       "      <td>8080</td>\n",
       "      <td>1.0</td>\n",
       "      <td>0</td>\n",
       "      <td>0</td>\n",
       "      <td>...</td>\n",
       "      <td>8</td>\n",
       "      <td>1680</td>\n",
       "      <td>0</td>\n",
       "      <td>1987</td>\n",
       "      <td>0</td>\n",
       "      <td>98074</td>\n",
       "      <td>47.6168</td>\n",
       "      <td>-122.045</td>\n",
       "      <td>1800</td>\n",
       "      <td>7503</td>\n",
       "    </tr>\n",
       "  </tbody>\n",
       "</table>\n",
       "<p>5 rows × 21 columns</p>\n",
       "</div>"
      ],
      "text/plain": [
       "           id             date     price  bedrooms  bathrooms  sqft_living  \\\n",
       "0  7129300520  20141013T000000  221900.0         3       1.00         1180   \n",
       "1  6414100192  20141209T000000  538000.0         3       2.25         2570   \n",
       "2  5631500400  20150225T000000  180000.0         2       1.00          770   \n",
       "3  2487200875  20141209T000000  604000.0         4       3.00         1960   \n",
       "4  1954400510  20150218T000000  510000.0         3       2.00         1680   \n",
       "\n",
       "   sqft_lot  floors  waterfront  view  ...  grade  sqft_above  sqft_basement  \\\n",
       "0      5650     1.0           0     0  ...      7        1180              0   \n",
       "1      7242     2.0           0     0  ...      7        2170            400   \n",
       "2     10000     1.0           0     0  ...      6         770              0   \n",
       "3      5000     1.0           0     0  ...      7        1050            910   \n",
       "4      8080     1.0           0     0  ...      8        1680              0   \n",
       "\n",
       "   yr_built  yr_renovated  zipcode      lat     long  sqft_living15  \\\n",
       "0      1955             0    98178  47.5112 -122.257           1340   \n",
       "1      1951          1991    98125  47.7210 -122.319           1690   \n",
       "2      1933             0    98028  47.7379 -122.233           2720   \n",
       "3      1965             0    98136  47.5208 -122.393           1360   \n",
       "4      1987             0    98074  47.6168 -122.045           1800   \n",
       "\n",
       "   sqft_lot15  \n",
       "0        5650  \n",
       "1        7639  \n",
       "2        8062  \n",
       "3        5000  \n",
       "4        7503  \n",
       "\n",
       "[5 rows x 21 columns]"
      ]
     },
     "execution_count": 8,
     "metadata": {},
     "output_type": "execute_result"
    }
   ],
   "source": [
    "data = pd.read_csv(\"https://raw.githubusercontent.com/panchaldhruv27223/datasets_for_ml_-csv-xlsl-/refs/heads/main/kc_house_data.csv\")\n",
    "data.head()"
   ]
  },
  {
   "cell_type": "code",
   "execution_count": 9,
   "id": "e9fdb85b",
   "metadata": {},
   "outputs": [
    {
     "data": {
      "text/plain": [
       "Index(['id', 'date', 'price', 'bedrooms', 'bathrooms', 'sqft_living',\n",
       "       'sqft_lot', 'floors', 'waterfront', 'view', 'condition', 'grade',\n",
       "       'sqft_above', 'sqft_basement', 'yr_built', 'yr_renovated', 'zipcode',\n",
       "       'lat', 'long', 'sqft_living15', 'sqft_lot15'],\n",
       "      dtype='object')"
      ]
     },
     "execution_count": 9,
     "metadata": {},
     "output_type": "execute_result"
    }
   ],
   "source": [
    "data.columns"
   ]
  },
  {
   "cell_type": "markdown",
   "id": "a9589706",
   "metadata": {},
   "source": [
    "# Task 1: Advanced Exploratory Data Analysis (EDA) & Feature Engineering"
   ]
  },
  {
   "cell_type": "markdown",
   "id": "c0a370b2",
   "metadata": {},
   "source": [
    "### Introduce and Handle Missing Data:"
   ]
  },
  {
   "cell_type": "code",
   "execution_count": 10,
   "id": "bcde8f5d",
   "metadata": {},
   "outputs": [
    {
     "name": "stdout",
     "output_type": "stream",
     "text": [
      "Total Rows In Dataset : 21613\n"
     ]
    }
   ],
   "source": [
    "rows = data.shape[0]\n",
    "print(\"Total Rows In Dataset :\",rows)"
   ]
  },
  {
   "cell_type": "code",
   "execution_count": 11,
   "id": "80d8c7ab",
   "metadata": {},
   "outputs": [],
   "source": [
    "np.random.seed(42)\n",
    "for cols in [\"sqft_lot\", \"bathrooms\"]:\n",
    "    rows = data.sample(frac = 0.05, random_state=np.random.randint(0, 10000)).index\n",
    "    data.loc[rows, cols] = np.nan"
   ]
  },
  {
   "cell_type": "code",
   "execution_count": 12,
   "id": "ac8493c2",
   "metadata": {},
   "outputs": [
    {
     "data": {
      "text/plain": [
       "id                  0\n",
       "date                0\n",
       "price               0\n",
       "bedrooms            0\n",
       "bathrooms        1081\n",
       "sqft_living         0\n",
       "sqft_lot         1081\n",
       "floors              0\n",
       "waterfront          0\n",
       "view                0\n",
       "condition           0\n",
       "grade               0\n",
       "sqft_above          0\n",
       "sqft_basement       0\n",
       "yr_built            0\n",
       "yr_renovated        0\n",
       "zipcode             0\n",
       "lat                 0\n",
       "long                0\n",
       "sqft_living15       0\n",
       "sqft_lot15          0\n",
       "dtype: int64"
      ]
     },
     "execution_count": 12,
     "metadata": {},
     "output_type": "execute_result"
    }
   ],
   "source": [
    "data.isnull().sum()"
   ]
  },
  {
   "cell_type": "code",
   "execution_count": 13,
   "id": "2f6bccae",
   "metadata": {},
   "outputs": [
    {
     "name": "stdout",
     "output_type": "stream",
     "text": [
      "<class 'pandas.core.frame.DataFrame'>\n",
      "RangeIndex: 21613 entries, 0 to 21612\n",
      "Data columns (total 21 columns):\n",
      " #   Column         Non-Null Count  Dtype  \n",
      "---  ------         --------------  -----  \n",
      " 0   id             21613 non-null  int64  \n",
      " 1   date           21613 non-null  object \n",
      " 2   price          21613 non-null  float64\n",
      " 3   bedrooms       21613 non-null  int64  \n",
      " 4   bathrooms      20532 non-null  float64\n",
      " 5   sqft_living    21613 non-null  int64  \n",
      " 6   sqft_lot       20532 non-null  float64\n",
      " 7   floors         21613 non-null  float64\n",
      " 8   waterfront     21613 non-null  int64  \n",
      " 9   view           21613 non-null  int64  \n",
      " 10  condition      21613 non-null  int64  \n",
      " 11  grade          21613 non-null  int64  \n",
      " 12  sqft_above     21613 non-null  int64  \n",
      " 13  sqft_basement  21613 non-null  int64  \n",
      " 14  yr_built       21613 non-null  int64  \n",
      " 15  yr_renovated   21613 non-null  int64  \n",
      " 16  zipcode        21613 non-null  int64  \n",
      " 17  lat            21613 non-null  float64\n",
      " 18  long           21613 non-null  float64\n",
      " 19  sqft_living15  21613 non-null  int64  \n",
      " 20  sqft_lot15     21613 non-null  int64  \n",
      "dtypes: float64(6), int64(14), object(1)\n",
      "memory usage: 3.5+ MB\n"
     ]
    }
   ],
   "source": [
    "data.info()"
   ]
  },
  {
   "cell_type": "markdown",
   "id": "d17a9a4d",
   "metadata": {},
   "source": [
    "## 1. Outlier Detection and Handling:\n",
    "##### ○ Create boxplots for price, sqft_living, and bedrooms.\n",
    "##### Identify and remove egregious outliers. A common rule is to remove\n",
    "##### data points that lie beyond 1.5timesIQR (Interquartile Range) from the\n",
    "##### first or third quartile. Justify your outlier removal strategy. For\n",
    "##### instance, does a house with 33 bedrooms seem plausible?"
   ]
  },
  {
   "cell_type": "code",
   "execution_count": 14,
   "id": "dcf3c0b8",
   "metadata": {},
   "outputs": [
    {
     "data": {
      "image/png": "[encoded data removed]",
      "text/plain": [
       "<Figure size 800x600 with 1 Axes>"
      ]
     },
     "metadata": {},
     "output_type": "display_data"
    }
   ],
   "source": [
    "plt.figure(figsize=(8,6))\n",
    "data[[\"price\"]].boxplot()\n",
    "plt.title(\"Boxplot of Price\", fontsize=14)\n",
    "plt.ylabel(\"Price\", fontsize=12)\n",
    "plt.show()\n"
   ]
  },
  {
   "cell_type": "code",
   "execution_count": 15,
   "id": "34b3b844",
   "metadata": {},
   "outputs": [
    {
     "data": {
      "image/png": "[encoded data removed]",
      "text/plain": [
       "<Figure size 800x600 with 1 Axes>"
      ]
     },
     "metadata": {},
     "output_type": "display_data"
    }
   ],
   "source": [
    "plt.figure(figsize=(8,6))\n",
    "data[[\"sqft_living\"]].boxplot()\n",
    "plt.title(\"Boxplot of Sqft_living\", fontsize=14)\n",
    "plt.ylabel(\"Price\", fontsize=12)\n",
    "plt.show()"
   ]
  },
  {
   "cell_type": "code",
   "execution_count": 16,
   "id": "3d4fcba6",
   "metadata": {},
   "outputs": [
    {
     "data": {
      "image/png": "[encoded data removed]",
      "text/plain": [
       "<Figure size 800x600 with 1 Axes>"
      ]
     },
     "metadata": {},
     "output_type": "display_data"
    }
   ],
   "source": [
    "plt.figure(figsize=(8,6))\n",
    "data[[\"bedrooms\"]].boxplot()\n",
    "plt.title(\"Boxplot of Bedrooms\", fontsize=14)\n",
    "plt.ylabel(\"Price\", fontsize=12)\n",
    "plt.show()"
   ]
  },
  {
   "cell_type": "code",
   "execution_count": 17,
   "id": "b9d53a8d",
   "metadata": {},
   "outputs": [
    {
     "data": {
      "text/plain": [
       "array([ 3,  2,  4,  5,  1,  6,  7,  0,  8,  9, 11, 10, 33])"
      ]
     },
     "execution_count": 17,
     "metadata": {},
     "output_type": "execute_result"
    }
   ],
   "source": [
    "data[\"bedrooms\"].unique()"
   ]
  },
  {
   "cell_type": "code",
   "execution_count": 18,
   "id": "191e7dae",
   "metadata": {},
   "outputs": [],
   "source": [
    "def remove_outliers(data, column):\n",
    "    Q1 = data[column].quantile(0.25)\n",
    "    Q3 = data[column].quantile(0.75)\n",
    "    IQR = Q3 - Q1\n",
    "    lower = Q1 - 1.5 * IQR\n",
    "    upper = Q3 + 1.5 * IQR\n",
    "    \n",
    "    data_clean = data[(data[column] >= lower) & (data[column] <= upper)]\n",
    "    return data_clean"
   ]
  },
  {
   "cell_type": "code",
   "execution_count": 19,
   "id": "b0a6cc36",
   "metadata": {},
   "outputs": [],
   "source": [
    "data = remove_outliers(data, 'price')\n",
    "data = remove_outliers(data, 'sqft_living')\n",
    "data = remove_outliers(data, 'bedrooms')"
   ]
  },
  {
   "cell_type": "code",
   "execution_count": 20,
   "id": "abd2aea9",
   "metadata": {},
   "outputs": [
    {
     "data": {
      "text/plain": [
       "array([3, 2, 4, 5])"
      ]
     },
     "execution_count": 20,
     "metadata": {},
     "output_type": "execute_result"
    }
   ],
   "source": [
    "data[\"bedrooms\"].unique()"
   ]
  },
  {
   "cell_type": "code",
   "execution_count": 21,
   "id": "4649e3cf",
   "metadata": {},
   "outputs": [
    {
     "data": {
      "text/plain": [
       "3438"
      ]
     },
     "execution_count": 21,
     "metadata": {},
     "output_type": "execute_result"
    }
   ],
   "source": [
    "data[\"price\"].nunique()"
   ]
  },
  {
   "cell_type": "code",
   "execution_count": 22,
   "id": "19bb44b8",
   "metadata": {},
   "outputs": [
    {
     "data": {
      "text/plain": [
       "752"
      ]
     },
     "execution_count": 22,
     "metadata": {},
     "output_type": "execute_result"
    }
   ],
   "source": [
    "data[\"sqft_living\"].nunique()"
   ]
  },
  {
   "cell_type": "code",
   "execution_count": 23,
   "id": "c370371b",
   "metadata": {},
   "outputs": [
    {
     "data": {
      "text/plain": [
       "(19687, 21)"
      ]
     },
     "execution_count": 23,
     "metadata": {},
     "output_type": "execute_result"
    }
   ],
   "source": [
    "data.shape"
   ]
  },
  {
   "cell_type": "code",
   "execution_count": 24,
   "id": "54a4a773",
   "metadata": {},
   "outputs": [
    {
     "name": "stdout",
     "output_type": "stream",
     "text": [
      "<class 'pandas.core.frame.DataFrame'>\n",
      "Index: 19687 entries, 0 to 21612\n",
      "Data columns (total 21 columns):\n",
      " #   Column         Non-Null Count  Dtype  \n",
      "---  ------         --------------  -----  \n",
      " 0   id             19687 non-null  int64  \n",
      " 1   date           19687 non-null  object \n",
      " 2   price          19687 non-null  float64\n",
      " 3   bedrooms       19687 non-null  int64  \n",
      " 4   bathrooms      18694 non-null  float64\n",
      " 5   sqft_living    19687 non-null  int64  \n",
      " 6   sqft_lot       18694 non-null  float64\n",
      " 7   floors         19687 non-null  float64\n",
      " 8   waterfront     19687 non-null  int64  \n",
      " 9   view           19687 non-null  int64  \n",
      " 10  condition      19687 non-null  int64  \n",
      " 11  grade          19687 non-null  int64  \n",
      " 12  sqft_above     19687 non-null  int64  \n",
      " 13  sqft_basement  19687 non-null  int64  \n",
      " 14  yr_built       19687 non-null  int64  \n",
      " 15  yr_renovated   19687 non-null  int64  \n",
      " 16  zipcode        19687 non-null  int64  \n",
      " 17  lat            19687 non-null  float64\n",
      " 18  long           19687 non-null  float64\n",
      " 19  sqft_living15  19687 non-null  int64  \n",
      " 20  sqft_lot15     19687 non-null  int64  \n",
      "dtypes: float64(6), int64(14), object(1)\n",
      "memory usage: 3.3+ MB\n"
     ]
    }
   ],
   "source": [
    "data.info()"
   ]
  },
  {
   "cell_type": "markdown",
   "id": "583c2d35",
   "metadata": {},
   "source": [
    "## 2. Advanced Feature Engineering:  \n",
    "##### Create the following new features,as they often provide more predictive power than raw data:\n",
    "##### ○ Date-Based Features: Do not drop the date column. Convert it to a\n",
    "##### datetime object and engineer the following:\n",
    "#### ■ sale_year: The year the house was sold.\n",
    "#### ■ sale_month: The month the house was sold.\n",
    "#### ■ house_age: The age of the house at the time of sale (sale_year , yr_built)."
   ]
  },
  {
   "cell_type": "code",
   "execution_count": 25,
   "id": "d0ef1059",
   "metadata": {},
   "outputs": [],
   "source": [
    "data[\"date\"] = pd.to_datetime(data[\"date\"] , format = \"%Y%m%dT%H%M%S\")"
   ]
  },
  {
   "cell_type": "code",
   "execution_count": 26,
   "id": "56492c49",
   "metadata": {},
   "outputs": [
    {
     "data": {
      "text/plain": [
       "0       2014-10-13\n",
       "1       2014-12-09\n",
       "2       2015-02-25\n",
       "3       2014-12-09\n",
       "4       2015-02-18\n",
       "           ...    \n",
       "21608   2014-05-21\n",
       "21609   2015-02-23\n",
       "21610   2014-06-23\n",
       "21611   2015-01-16\n",
       "21612   2014-10-15\n",
       "Name: date, Length: 19687, dtype: datetime64[ns]"
      ]
     },
     "execution_count": 26,
     "metadata": {},
     "output_type": "execute_result"
    }
   ],
   "source": [
    "data[\"date\"]"
   ]
  },
  {
   "cell_type": "code",
   "execution_count": 27,
   "id": "a5c88e43",
   "metadata": {},
   "outputs": [
    {
     "data": {
      "text/html": [
       "<div>\n",
       "<style scoped>\n",
       "    .dataframe tbody tr th:only-of-type {\n",
       "        vertical-align: middle;\n",
       "    }\n",
       "\n",
       "    .dataframe tbody tr th {\n",
       "        vertical-align: top;\n",
       "    }\n",
       "\n",
       "    .dataframe thead th {\n",
       "        text-align: right;\n",
       "    }\n",
       "</style>\n",
       "<table border=\"1\" class=\"dataframe\">\n",
       "  <thead>\n",
       "    <tr style=\"text-align: right;\">\n",
       "      <th></th>\n",
       "      <th>id</th>\n",
       "      <th>date</th>\n",
       "      <th>price</th>\n",
       "      <th>bedrooms</th>\n",
       "      <th>bathrooms</th>\n",
       "      <th>sqft_living</th>\n",
       "      <th>sqft_lot</th>\n",
       "      <th>floors</th>\n",
       "      <th>waterfront</th>\n",
       "      <th>view</th>\n",
       "      <th>...</th>\n",
       "      <th>grade</th>\n",
       "      <th>sqft_above</th>\n",
       "      <th>sqft_basement</th>\n",
       "      <th>yr_built</th>\n",
       "      <th>yr_renovated</th>\n",
       "      <th>zipcode</th>\n",
       "      <th>lat</th>\n",
       "      <th>long</th>\n",
       "      <th>sqft_living15</th>\n",
       "      <th>sqft_lot15</th>\n",
       "    </tr>\n",
       "  </thead>\n",
       "  <tbody>\n",
       "    <tr>\n",
       "      <th>0</th>\n",
       "      <td>7129300520</td>\n",
       "      <td>2014-10-13</td>\n",
       "      <td>221900.0</td>\n",
       "      <td>3</td>\n",
       "      <td>1.00</td>\n",
       "      <td>1180</td>\n",
       "      <td>5650.0</td>\n",
       "      <td>1.0</td>\n",
       "      <td>0</td>\n",
       "      <td>0</td>\n",
       "      <td>...</td>\n",
       "      <td>7</td>\n",
       "      <td>1180</td>\n",
       "      <td>0</td>\n",
       "      <td>1955</td>\n",
       "      <td>0</td>\n",
       "      <td>98178</td>\n",
       "      <td>47.5112</td>\n",
       "      <td>-122.257</td>\n",
       "      <td>1340</td>\n",
       "      <td>5650</td>\n",
       "    </tr>\n",
       "    <tr>\n",
       "      <th>1</th>\n",
       "      <td>6414100192</td>\n",
       "      <td>2014-12-09</td>\n",
       "      <td>538000.0</td>\n",
       "      <td>3</td>\n",
       "      <td>2.25</td>\n",
       "      <td>2570</td>\n",
       "      <td>7242.0</td>\n",
       "      <td>2.0</td>\n",
       "      <td>0</td>\n",
       "      <td>0</td>\n",
       "      <td>...</td>\n",
       "      <td>7</td>\n",
       "      <td>2170</td>\n",
       "      <td>400</td>\n",
       "      <td>1951</td>\n",
       "      <td>1991</td>\n",
       "      <td>98125</td>\n",
       "      <td>47.7210</td>\n",
       "      <td>-122.319</td>\n",
       "      <td>1690</td>\n",
       "      <td>7639</td>\n",
       "    </tr>\n",
       "    <tr>\n",
       "      <th>2</th>\n",
       "      <td>5631500400</td>\n",
       "      <td>2015-02-25</td>\n",
       "      <td>180000.0</td>\n",
       "      <td>2</td>\n",
       "      <td>1.00</td>\n",
       "      <td>770</td>\n",
       "      <td>10000.0</td>\n",
       "      <td>1.0</td>\n",
       "      <td>0</td>\n",
       "      <td>0</td>\n",
       "      <td>...</td>\n",
       "      <td>6</td>\n",
       "      <td>770</td>\n",
       "      <td>0</td>\n",
       "      <td>1933</td>\n",
       "      <td>0</td>\n",
       "      <td>98028</td>\n",
       "      <td>47.7379</td>\n",
       "      <td>-122.233</td>\n",
       "      <td>2720</td>\n",
       "      <td>8062</td>\n",
       "    </tr>\n",
       "    <tr>\n",
       "      <th>3</th>\n",
       "      <td>2487200875</td>\n",
       "      <td>2014-12-09</td>\n",
       "      <td>604000.0</td>\n",
       "      <td>4</td>\n",
       "      <td>3.00</td>\n",
       "      <td>1960</td>\n",
       "      <td>5000.0</td>\n",
       "      <td>1.0</td>\n",
       "      <td>0</td>\n",
       "      <td>0</td>\n",
       "      <td>...</td>\n",
       "      <td>7</td>\n",
       "      <td>1050</td>\n",
       "      <td>910</td>\n",
       "      <td>1965</td>\n",
       "      <td>0</td>\n",
       "      <td>98136</td>\n",
       "      <td>47.5208</td>\n",
       "      <td>-122.393</td>\n",
       "      <td>1360</td>\n",
       "      <td>5000</td>\n",
       "    </tr>\n",
       "    <tr>\n",
       "      <th>4</th>\n",
       "      <td>1954400510</td>\n",
       "      <td>2015-02-18</td>\n",
       "      <td>510000.0</td>\n",
       "      <td>3</td>\n",
       "      <td>2.00</td>\n",
       "      <td>1680</td>\n",
       "      <td>8080.0</td>\n",
       "      <td>1.0</td>\n",
       "      <td>0</td>\n",
       "      <td>0</td>\n",
       "      <td>...</td>\n",
       "      <td>8</td>\n",
       "      <td>1680</td>\n",
       "      <td>0</td>\n",
       "      <td>1987</td>\n",
       "      <td>0</td>\n",
       "      <td>98074</td>\n",
       "      <td>47.6168</td>\n",
       "      <td>-122.045</td>\n",
       "      <td>1800</td>\n",
       "      <td>7503</td>\n",
       "    </tr>\n",
       "  </tbody>\n",
       "</table>\n",
       "<p>5 rows × 21 columns</p>\n",
       "</div>"
      ],
      "text/plain": [
       "           id       date     price  bedrooms  bathrooms  sqft_living  \\\n",
       "0  7129300520 2014-10-13  221900.0         3       1.00         1180   \n",
       "1  6414100192 2014-12-09  538000.0         3       2.25         2570   \n",
       "2  5631500400 2015-02-25  180000.0         2       1.00          770   \n",
       "3  2487200875 2014-12-09  604000.0         4       3.00         1960   \n",
       "4  1954400510 2015-02-18  510000.0         3       2.00         1680   \n",
       "\n",
       "   sqft_lot  floors  waterfront  view  ...  grade  sqft_above  sqft_basement  \\\n",
       "0    5650.0     1.0           0     0  ...      7        1180              0   \n",
       "1    7242.0     2.0           0     0  ...      7        2170            400   \n",
       "2   10000.0     1.0           0     0  ...      6         770              0   \n",
       "3    5000.0     1.0           0     0  ...      7        1050            910   \n",
       "4    8080.0     1.0           0     0  ...      8        1680              0   \n",
       "\n",
       "   yr_built  yr_renovated  zipcode      lat     long  sqft_living15  \\\n",
       "0      1955             0    98178  47.5112 -122.257           1340   \n",
       "1      1951          1991    98125  47.7210 -122.319           1690   \n",
       "2      1933             0    98028  47.7379 -122.233           2720   \n",
       "3      1965             0    98136  47.5208 -122.393           1360   \n",
       "4      1987             0    98074  47.6168 -122.045           1800   \n",
       "\n",
       "   sqft_lot15  \n",
       "0        5650  \n",
       "1        7639  \n",
       "2        8062  \n",
       "3        5000  \n",
       "4        7503  \n",
       "\n",
       "[5 rows x 21 columns]"
      ]
     },
     "execution_count": 27,
     "metadata": {},
     "output_type": "execute_result"
    }
   ],
   "source": [
    "data.head()"
   ]
  },
  {
   "cell_type": "code",
   "execution_count": 28,
   "id": "37937ed7",
   "metadata": {},
   "outputs": [
    {
     "data": {
      "text/plain": [
       "Index(['id', 'date', 'price', 'bedrooms', 'bathrooms', 'sqft_living',\n",
       "       'sqft_lot', 'floors', 'waterfront', 'view', 'condition', 'grade',\n",
       "       'sqft_above', 'sqft_basement', 'yr_built', 'yr_renovated', 'zipcode',\n",
       "       'lat', 'long', 'sqft_living15', 'sqft_lot15'],\n",
       "      dtype='object')"
      ]
     },
     "execution_count": 28,
     "metadata": {},
     "output_type": "execute_result"
    }
   ],
   "source": [
    "data.columns"
   ]
  },
  {
   "cell_type": "code",
   "execution_count": 29,
   "id": "f0892219",
   "metadata": {},
   "outputs": [],
   "source": [
    "data[\"sale_year\"] = data[\"date\"].dt.year\n",
    "data[\"sale_month\"] = data[\"date\"].dt.month"
   ]
  },
  {
   "cell_type": "code",
   "execution_count": 30,
   "id": "0e8197cd",
   "metadata": {},
   "outputs": [
    {
     "data": {
      "text/html": [
       "<div>\n",
       "<style scoped>\n",
       "    .dataframe tbody tr th:only-of-type {\n",
       "        vertical-align: middle;\n",
       "    }\n",
       "\n",
       "    .dataframe tbody tr th {\n",
       "        vertical-align: top;\n",
       "    }\n",
       "\n",
       "    .dataframe thead th {\n",
       "        text-align: right;\n",
       "    }\n",
       "</style>\n",
       "<table border=\"1\" class=\"dataframe\">\n",
       "  <thead>\n",
       "    <tr style=\"text-align: right;\">\n",
       "      <th></th>\n",
       "      <th>id</th>\n",
       "      <th>date</th>\n",
       "      <th>price</th>\n",
       "      <th>bedrooms</th>\n",
       "      <th>bathrooms</th>\n",
       "      <th>sqft_living</th>\n",
       "      <th>sqft_lot</th>\n",
       "      <th>floors</th>\n",
       "      <th>waterfront</th>\n",
       "      <th>view</th>\n",
       "      <th>...</th>\n",
       "      <th>sqft_basement</th>\n",
       "      <th>yr_built</th>\n",
       "      <th>yr_renovated</th>\n",
       "      <th>zipcode</th>\n",
       "      <th>lat</th>\n",
       "      <th>long</th>\n",
       "      <th>sqft_living15</th>\n",
       "      <th>sqft_lot15</th>\n",
       "      <th>sale_year</th>\n",
       "      <th>sale_month</th>\n",
       "    </tr>\n",
       "  </thead>\n",
       "  <tbody>\n",
       "    <tr>\n",
       "      <th>0</th>\n",
       "      <td>7129300520</td>\n",
       "      <td>2014-10-13</td>\n",
       "      <td>221900.0</td>\n",
       "      <td>3</td>\n",
       "      <td>1.00</td>\n",
       "      <td>1180</td>\n",
       "      <td>5650.0</td>\n",
       "      <td>1.0</td>\n",
       "      <td>0</td>\n",
       "      <td>0</td>\n",
       "      <td>...</td>\n",
       "      <td>0</td>\n",
       "      <td>1955</td>\n",
       "      <td>0</td>\n",
       "      <td>98178</td>\n",
       "      <td>47.5112</td>\n",
       "      <td>-122.257</td>\n",
       "      <td>1340</td>\n",
       "      <td>5650</td>\n",
       "      <td>2014</td>\n",
       "      <td>10</td>\n",
       "    </tr>\n",
       "    <tr>\n",
       "      <th>1</th>\n",
       "      <td>6414100192</td>\n",
       "      <td>2014-12-09</td>\n",
       "      <td>538000.0</td>\n",
       "      <td>3</td>\n",
       "      <td>2.25</td>\n",
       "      <td>2570</td>\n",
       "      <td>7242.0</td>\n",
       "      <td>2.0</td>\n",
       "      <td>0</td>\n",
       "      <td>0</td>\n",
       "      <td>...</td>\n",
       "      <td>400</td>\n",
       "      <td>1951</td>\n",
       "      <td>1991</td>\n",
       "      <td>98125</td>\n",
       "      <td>47.7210</td>\n",
       "      <td>-122.319</td>\n",
       "      <td>1690</td>\n",
       "      <td>7639</td>\n",
       "      <td>2014</td>\n",
       "      <td>12</td>\n",
       "    </tr>\n",
       "    <tr>\n",
       "      <th>2</th>\n",
       "      <td>5631500400</td>\n",
       "      <td>2015-02-25</td>\n",
       "      <td>180000.0</td>\n",
       "      <td>2</td>\n",
       "      <td>1.00</td>\n",
       "      <td>770</td>\n",
       "      <td>10000.0</td>\n",
       "      <td>1.0</td>\n",
       "      <td>0</td>\n",
       "      <td>0</td>\n",
       "      <td>...</td>\n",
       "      <td>0</td>\n",
       "      <td>1933</td>\n",
       "      <td>0</td>\n",
       "      <td>98028</td>\n",
       "      <td>47.7379</td>\n",
       "      <td>-122.233</td>\n",
       "      <td>2720</td>\n",
       "      <td>8062</td>\n",
       "      <td>2015</td>\n",
       "      <td>2</td>\n",
       "    </tr>\n",
       "    <tr>\n",
       "      <th>3</th>\n",
       "      <td>2487200875</td>\n",
       "      <td>2014-12-09</td>\n",
       "      <td>604000.0</td>\n",
       "      <td>4</td>\n",
       "      <td>3.00</td>\n",
       "      <td>1960</td>\n",
       "      <td>5000.0</td>\n",
       "      <td>1.0</td>\n",
       "      <td>0</td>\n",
       "      <td>0</td>\n",
       "      <td>...</td>\n",
       "      <td>910</td>\n",
       "      <td>1965</td>\n",
       "      <td>0</td>\n",
       "      <td>98136</td>\n",
       "      <td>47.5208</td>\n",
       "      <td>-122.393</td>\n",
       "      <td>1360</td>\n",
       "      <td>5000</td>\n",
       "      <td>2014</td>\n",
       "      <td>12</td>\n",
       "    </tr>\n",
       "    <tr>\n",
       "      <th>4</th>\n",
       "      <td>1954400510</td>\n",
       "      <td>2015-02-18</td>\n",
       "      <td>510000.0</td>\n",
       "      <td>3</td>\n",
       "      <td>2.00</td>\n",
       "      <td>1680</td>\n",
       "      <td>8080.0</td>\n",
       "      <td>1.0</td>\n",
       "      <td>0</td>\n",
       "      <td>0</td>\n",
       "      <td>...</td>\n",
       "      <td>0</td>\n",
       "      <td>1987</td>\n",
       "      <td>0</td>\n",
       "      <td>98074</td>\n",
       "      <td>47.6168</td>\n",
       "      <td>-122.045</td>\n",
       "      <td>1800</td>\n",
       "      <td>7503</td>\n",
       "      <td>2015</td>\n",
       "      <td>2</td>\n",
       "    </tr>\n",
       "  </tbody>\n",
       "</table>\n",
       "<p>5 rows × 23 columns</p>\n",
       "</div>"
      ],
      "text/plain": [
       "           id       date     price  bedrooms  bathrooms  sqft_living  \\\n",
       "0  7129300520 2014-10-13  221900.0         3       1.00         1180   \n",
       "1  6414100192 2014-12-09  538000.0         3       2.25         2570   \n",
       "2  5631500400 2015-02-25  180000.0         2       1.00          770   \n",
       "3  2487200875 2014-12-09  604000.0         4       3.00         1960   \n",
       "4  1954400510 2015-02-18  510000.0         3       2.00         1680   \n",
       "\n",
       "   sqft_lot  floors  waterfront  view  ...  sqft_basement  yr_built  \\\n",
       "0    5650.0     1.0           0     0  ...              0      1955   \n",
       "1    7242.0     2.0           0     0  ...            400      1951   \n",
       "2   10000.0     1.0           0     0  ...              0      1933   \n",
       "3    5000.0     1.0           0     0  ...            910      1965   \n",
       "4    8080.0     1.0           0     0  ...              0      1987   \n",
       "\n",
       "   yr_renovated  zipcode      lat     long  sqft_living15  sqft_lot15  \\\n",
       "0             0    98178  47.5112 -122.257           1340        5650   \n",
       "1          1991    98125  47.7210 -122.319           1690        7639   \n",
       "2             0    98028  47.7379 -122.233           2720        8062   \n",
       "3             0    98136  47.5208 -122.393           1360        5000   \n",
       "4             0    98074  47.6168 -122.045           1800        7503   \n",
       "\n",
       "   sale_year  sale_month  \n",
       "0       2014          10  \n",
       "1       2014          12  \n",
       "2       2015           2  \n",
       "3       2014          12  \n",
       "4       2015           2  \n",
       "\n",
       "[5 rows x 23 columns]"
      ]
     },
     "execution_count": 30,
     "metadata": {},
     "output_type": "execute_result"
    }
   ],
   "source": [
    "data.head()"
   ]
  },
  {
   "cell_type": "code",
   "execution_count": 31,
   "id": "9a1c5d71",
   "metadata": {},
   "outputs": [
    {
     "data": {
      "text/plain": [
       "(19687, 23)"
      ]
     },
     "execution_count": 31,
     "metadata": {},
     "output_type": "execute_result"
    }
   ],
   "source": [
    "data.shape"
   ]
  },
  {
   "cell_type": "code",
   "execution_count": 32,
   "id": "c2c36ead",
   "metadata": {},
   "outputs": [],
   "source": [
    "data[\"house_age\"] = data[\"sale_year\"] - data[\"yr_built\"]"
   ]
  },
  {
   "cell_type": "code",
   "execution_count": 33,
   "id": "443f1262",
   "metadata": {},
   "outputs": [
    {
     "data": {
      "text/html": [
       "<div>\n",
       "<style scoped>\n",
       "    .dataframe tbody tr th:only-of-type {\n",
       "        vertical-align: middle;\n",
       "    }\n",
       "\n",
       "    .dataframe tbody tr th {\n",
       "        vertical-align: top;\n",
       "    }\n",
       "\n",
       "    .dataframe thead th {\n",
       "        text-align: right;\n",
       "    }\n",
       "</style>\n",
       "<table border=\"1\" class=\"dataframe\">\n",
       "  <thead>\n",
       "    <tr style=\"text-align: right;\">\n",
       "      <th></th>\n",
       "      <th>id</th>\n",
       "      <th>date</th>\n",
       "      <th>price</th>\n",
       "      <th>bedrooms</th>\n",
       "      <th>bathrooms</th>\n",
       "      <th>sqft_living</th>\n",
       "      <th>sqft_lot</th>\n",
       "      <th>floors</th>\n",
       "      <th>waterfront</th>\n",
       "      <th>view</th>\n",
       "      <th>...</th>\n",
       "      <th>yr_built</th>\n",
       "      <th>yr_renovated</th>\n",
       "      <th>zipcode</th>\n",
       "      <th>lat</th>\n",
       "      <th>long</th>\n",
       "      <th>sqft_living15</th>\n",
       "      <th>sqft_lot15</th>\n",
       "      <th>sale_year</th>\n",
       "      <th>sale_month</th>\n",
       "      <th>house_age</th>\n",
       "    </tr>\n",
       "  </thead>\n",
       "  <tbody>\n",
       "    <tr>\n",
       "      <th>0</th>\n",
       "      <td>7129300520</td>\n",
       "      <td>2014-10-13</td>\n",
       "      <td>221900.0</td>\n",
       "      <td>3</td>\n",
       "      <td>1.00</td>\n",
       "      <td>1180</td>\n",
       "      <td>5650.0</td>\n",
       "      <td>1.0</td>\n",
       "      <td>0</td>\n",
       "      <td>0</td>\n",
       "      <td>...</td>\n",
       "      <td>1955</td>\n",
       "      <td>0</td>\n",
       "      <td>98178</td>\n",
       "      <td>47.5112</td>\n",
       "      <td>-122.257</td>\n",
       "      <td>1340</td>\n",
       "      <td>5650</td>\n",
       "      <td>2014</td>\n",
       "      <td>10</td>\n",
       "      <td>59</td>\n",
       "    </tr>\n",
       "    <tr>\n",
       "      <th>1</th>\n",
       "      <td>6414100192</td>\n",
       "      <td>2014-12-09</td>\n",
       "      <td>538000.0</td>\n",
       "      <td>3</td>\n",
       "      <td>2.25</td>\n",
       "      <td>2570</td>\n",
       "      <td>7242.0</td>\n",
       "      <td>2.0</td>\n",
       "      <td>0</td>\n",
       "      <td>0</td>\n",
       "      <td>...</td>\n",
       "      <td>1951</td>\n",
       "      <td>1991</td>\n",
       "      <td>98125</td>\n",
       "      <td>47.7210</td>\n",
       "      <td>-122.319</td>\n",
       "      <td>1690</td>\n",
       "      <td>7639</td>\n",
       "      <td>2014</td>\n",
       "      <td>12</td>\n",
       "      <td>63</td>\n",
       "    </tr>\n",
       "    <tr>\n",
       "      <th>2</th>\n",
       "      <td>5631500400</td>\n",
       "      <td>2015-02-25</td>\n",
       "      <td>180000.0</td>\n",
       "      <td>2</td>\n",
       "      <td>1.00</td>\n",
       "      <td>770</td>\n",
       "      <td>10000.0</td>\n",
       "      <td>1.0</td>\n",
       "      <td>0</td>\n",
       "      <td>0</td>\n",
       "      <td>...</td>\n",
       "      <td>1933</td>\n",
       "      <td>0</td>\n",
       "      <td>98028</td>\n",
       "      <td>47.7379</td>\n",
       "      <td>-122.233</td>\n",
       "      <td>2720</td>\n",
       "      <td>8062</td>\n",
       "      <td>2015</td>\n",
       "      <td>2</td>\n",
       "      <td>82</td>\n",
       "    </tr>\n",
       "    <tr>\n",
       "      <th>3</th>\n",
       "      <td>2487200875</td>\n",
       "      <td>2014-12-09</td>\n",
       "      <td>604000.0</td>\n",
       "      <td>4</td>\n",
       "      <td>3.00</td>\n",
       "      <td>1960</td>\n",
       "      <td>5000.0</td>\n",
       "      <td>1.0</td>\n",
       "      <td>0</td>\n",
       "      <td>0</td>\n",
       "      <td>...</td>\n",
       "      <td>1965</td>\n",
       "      <td>0</td>\n",
       "      <td>98136</td>\n",
       "      <td>47.5208</td>\n",
       "      <td>-122.393</td>\n",
       "      <td>1360</td>\n",
       "      <td>5000</td>\n",
       "      <td>2014</td>\n",
       "      <td>12</td>\n",
       "      <td>49</td>\n",
       "    </tr>\n",
       "    <tr>\n",
       "      <th>4</th>\n",
       "      <td>1954400510</td>\n",
       "      <td>2015-02-18</td>\n",
       "      <td>510000.0</td>\n",
       "      <td>3</td>\n",
       "      <td>2.00</td>\n",
       "      <td>1680</td>\n",
       "      <td>8080.0</td>\n",
       "      <td>1.0</td>\n",
       "      <td>0</td>\n",
       "      <td>0</td>\n",
       "      <td>...</td>\n",
       "      <td>1987</td>\n",
       "      <td>0</td>\n",
       "      <td>98074</td>\n",
       "      <td>47.6168</td>\n",
       "      <td>-122.045</td>\n",
       "      <td>1800</td>\n",
       "      <td>7503</td>\n",
       "      <td>2015</td>\n",
       "      <td>2</td>\n",
       "      <td>28</td>\n",
       "    </tr>\n",
       "  </tbody>\n",
       "</table>\n",
       "<p>5 rows × 24 columns</p>\n",
       "</div>"
      ],
      "text/plain": [
       "           id       date     price  bedrooms  bathrooms  sqft_living  \\\n",
       "0  7129300520 2014-10-13  221900.0         3       1.00         1180   \n",
       "1  6414100192 2014-12-09  538000.0         3       2.25         2570   \n",
       "2  5631500400 2015-02-25  180000.0         2       1.00          770   \n",
       "3  2487200875 2014-12-09  604000.0         4       3.00         1960   \n",
       "4  1954400510 2015-02-18  510000.0         3       2.00         1680   \n",
       "\n",
       "   sqft_lot  floors  waterfront  view  ...  yr_built  yr_renovated  zipcode  \\\n",
       "0    5650.0     1.0           0     0  ...      1955             0    98178   \n",
       "1    7242.0     2.0           0     0  ...      1951          1991    98125   \n",
       "2   10000.0     1.0           0     0  ...      1933             0    98028   \n",
       "3    5000.0     1.0           0     0  ...      1965             0    98136   \n",
       "4    8080.0     1.0           0     0  ...      1987             0    98074   \n",
       "\n",
       "       lat     long  sqft_living15  sqft_lot15  sale_year  sale_month  \\\n",
       "0  47.5112 -122.257           1340        5650       2014          10   \n",
       "1  47.7210 -122.319           1690        7639       2014          12   \n",
       "2  47.7379 -122.233           2720        8062       2015           2   \n",
       "3  47.5208 -122.393           1360        5000       2014          12   \n",
       "4  47.6168 -122.045           1800        7503       2015           2   \n",
       "\n",
       "   house_age  \n",
       "0         59  \n",
       "1         63  \n",
       "2         82  \n",
       "3         49  \n",
       "4         28  \n",
       "\n",
       "[5 rows x 24 columns]"
      ]
     },
     "execution_count": 33,
     "metadata": {},
     "output_type": "execute_result"
    }
   ],
   "source": [
    "data.head()"
   ]
  },
  {
   "cell_type": "markdown",
   "id": "9d34bad2",
   "metadata": {},
   "source": [
    "#### ○ Renovation Status:\n",
    "#### ■ was_renovated: A binary feature (1 if yr_renovated is not 0,else 0).\n",
    "#### ■ age_since_renovation: Years since renovation. If never renovated, this could be the same as house_age. Think about the best way to handle this."
   ]
  },
  {
   "cell_type": "code",
   "execution_count": 34,
   "id": "d55ba368",
   "metadata": {},
   "outputs": [
    {
     "data": {
      "text/plain": [
       "array([   0, 1991, 2002, 2010, 2013, 1978, 2005, 2003, 1984, 1954, 2014,\n",
       "       2011, 1974, 1983, 1945, 1988, 1957, 1977, 1981, 1995, 2000, 1999,\n",
       "       1970, 1989, 2004, 1994, 1986, 1992, 2009, 1990, 2007, 1987, 1973,\n",
       "       2006, 2001, 1980, 1971, 1979, 1997, 1969, 2015, 2008, 2012, 1968,\n",
       "       1963, 1951, 1993, 1962, 1996, 1953, 1998, 1955, 1982, 1950, 1985,\n",
       "       1940, 1976, 1946, 1975, 1958, 1964, 1959, 1960, 1956, 1967, 1965,\n",
       "       1934, 1972, 1944])"
      ]
     },
     "execution_count": 34,
     "metadata": {},
     "output_type": "execute_result"
    }
   ],
   "source": [
    "data[\"yr_renovated\"].unique()"
   ]
  },
  {
   "cell_type": "code",
   "execution_count": 35,
   "id": "cfd85f0e",
   "metadata": {},
   "outputs": [
    {
     "data": {
      "text/plain": [
       "array([0, 1])"
      ]
     },
     "execution_count": 35,
     "metadata": {},
     "output_type": "execute_result"
    }
   ],
   "source": [
    "data[\"was_renovated\"] = data[\"yr_renovated\"].apply(lambda x: 1 if x > 0 else 0)\n",
    "data[\"was_renovated\"].unique()"
   ]
  },
  {
   "cell_type": "code",
   "execution_count": 36,
   "id": "038095bf",
   "metadata": {},
   "outputs": [],
   "source": [
    "def calc_age_since_renovation(row):\n",
    "    if row['yr_renovated'] == 0:  \n",
    "        return row['house_age']\n",
    "    else:\n",
    "        return row['sale_year'] - row['yr_renovated']\n",
    "data['age_since_renovation'] = data.apply(calc_age_since_renovation, axis=1)"
   ]
  },
  {
   "cell_type": "markdown",
   "id": "7c612c0a",
   "metadata": {},
   "source": [
    "#### ○ Ratio Features: Create at least two insightful ratio features. For\n",
    "#### example:\n",
    "#### ■ sqft_living_per_floor: sqft_living / floors. (Handle cases where floors might be 0).\n",
    "#### ■ bath_per_bed: bathrooms / bedrooms. (Handle cases where bedrooms might be 0)."
   ]
  },
  {
   "cell_type": "code",
   "execution_count": 37,
   "id": "d7536401",
   "metadata": {},
   "outputs": [],
   "source": [
    "data['sqft_living_per_floor'] = data['sqft_living'] / data['floors'].replace(0, np.nan)\n",
    "data['bath_per_bed'] = data['bathrooms'] / data['bedrooms'].replace(0, np.nan)"
   ]
  },
  {
   "cell_type": "code",
   "execution_count": 38,
   "id": "44ad399c",
   "metadata": {},
   "outputs": [
    {
     "data": {
      "text/plain": [
       "array([0.33333333, 0.75      , 0.5       , 0.66666667, 0.83333333,\n",
       "       0.58333333, 0.4       ,        nan, 0.25      , 0.4375    ,\n",
       "       0.625     , 0.6875    , 0.55      , 0.875     , 0.45      ,\n",
       "       0.65      , 0.91666667, 1.        , 1.08333333, 1.125     ,\n",
       "       0.375     , 1.16666667, 0.5625    , 0.7       , 1.25      ,\n",
       "       0.8       , 0.35      , 0.6       , 1.41666667, 0.8125    ,\n",
       "       1.5       , 0.3       , 1.375     , 0.2       , 0.41666667,\n",
       "       0.9375    , 0.95      , 1.625     , 1.0625    , 0.9       ,\n",
       "       1.33333333, 0.85      , 0.125     , 1.1875    , 0.1875    ,\n",
       "       1.75      ])"
      ]
     },
     "execution_count": 38,
     "metadata": {},
     "output_type": "execute_result"
    }
   ],
   "source": [
    "data[\"bath_per_bed\"].unique()"
   ]
  },
  {
   "cell_type": "markdown",
   "id": "6e1e62b1",
   "metadata": {},
   "source": [
    "# Task 2: Build a Sophisticated Preprocessing Pipeline"
   ]
  },
  {
   "cell_type": "markdown",
   "id": "a563d30c",
   "metadata": {},
   "source": [
    "#### 1. Identify Feature Types: After your feature engineering in Task 1, categorize your final columns into three groups:\n",
    "#### ○ Numerical Features: Continuous variables that need imputation and scaling (e.g., sqft_living, house_age, sqft_lot).\n",
    "#### ○ Categorical Features: Features that should be treated as categories, not numbers (e.g., zipcode).\n",
    "#### ○ Passthrough Features: Features you believe don't need scaling or encoding but are still useful (e.g., grade, condition, was_renovated)."
   ]
  },
  {
   "cell_type": "code",
   "execution_count": 39,
   "id": "5a762d85",
   "metadata": {},
   "outputs": [],
   "source": [
    "from sklearn.model_selection import train_test_split\n",
    "X = data.drop(columns=['price'])\n",
    "y = data['price']\n",
    "\n",
    "X_train, X_test, y_train, y_test = train_test_split(X, y, test_size=0.2, random_state=42)"
   ]
  },
  {
   "cell_type": "code",
   "execution_count": 40,
   "id": "f526efe7",
   "metadata": {},
   "outputs": [
    {
     "name": "stdout",
     "output_type": "stream",
     "text": [
      "<class 'pandas.core.frame.DataFrame'>\n",
      "Index: 19687 entries, 0 to 21612\n",
      "Data columns (total 28 columns):\n",
      " #   Column                 Non-Null Count  Dtype         \n",
      "---  ------                 --------------  -----         \n",
      " 0   id                     19687 non-null  int64         \n",
      " 1   date                   19687 non-null  datetime64[ns]\n",
      " 2   price                  19687 non-null  float64       \n",
      " 3   bedrooms               19687 non-null  int64         \n",
      " 4   bathrooms              18694 non-null  float64       \n",
      " 5   sqft_living            19687 non-null  int64         \n",
      " 6   sqft_lot               18694 non-null  float64       \n",
      " 7   floors                 19687 non-null  float64       \n",
      " 8   waterfront             19687 non-null  int64         \n",
      " 9   view                   19687 non-null  int64         \n",
      " 10  condition              19687 non-null  int64         \n",
      " 11  grade                  19687 non-null  int64         \n",
      " 12  sqft_above             19687 non-null  int64         \n",
      " 13  sqft_basement          19687 non-null  int64         \n",
      " 14  yr_built               19687 non-null  int64         \n",
      " 15  yr_renovated           19687 non-null  int64         \n",
      " 16  zipcode                19687 non-null  int64         \n",
      " 17  lat                    19687 non-null  float64       \n",
      " 18  long                   19687 non-null  float64       \n",
      " 19  sqft_living15          19687 non-null  int64         \n",
      " 20  sqft_lot15             19687 non-null  int64         \n",
      " 21  sale_year              19687 non-null  int32         \n",
      " 22  sale_month             19687 non-null  int32         \n",
      " 23  house_age              19687 non-null  int64         \n",
      " 24  was_renovated          19687 non-null  int64         \n",
      " 25  age_since_renovation   19687 non-null  int64         \n",
      " 26  sqft_living_per_floor  19687 non-null  float64       \n",
      " 27  bath_per_bed           18694 non-null  float64       \n",
      "dtypes: datetime64[ns](1), float64(8), int32(2), int64(17)\n",
      "memory usage: 4.2 MB\n"
     ]
    }
   ],
   "source": [
    "data.info()"
   ]
  },
  {
   "cell_type": "code",
   "execution_count": 41,
   "id": "f9fc9635",
   "metadata": {},
   "outputs": [
    {
     "data": {
      "text/plain": [
       "Index(['id', 'date', 'price', 'bedrooms', 'bathrooms', 'sqft_living',\n",
       "       'sqft_lot', 'floors', 'waterfront', 'view', 'condition', 'grade',\n",
       "       'sqft_above', 'sqft_basement', 'yr_built', 'yr_renovated', 'zipcode',\n",
       "       'lat', 'long', 'sqft_living15', 'sqft_lot15', 'sale_year', 'sale_month',\n",
       "       'house_age', 'was_renovated', 'age_since_renovation',\n",
       "       'sqft_living_per_floor', 'bath_per_bed'],\n",
       "      dtype='object')"
      ]
     },
     "execution_count": 41,
     "metadata": {},
     "output_type": "execute_result"
    }
   ],
   "source": [
    "data.columns"
   ]
  },
  {
   "cell_type": "code",
   "execution_count": 42,
   "id": "46671f54",
   "metadata": {},
   "outputs": [],
   "source": [
    "numeric_features = [\n",
    "    'sqft_living', 'sqft_lot', 'sqft_above', 'sqft_basement',\n",
    "    'lat', 'long', 'sqft_living15', 'sqft_lot15',\n",
    "    'house_age', 'age_since_renovation',\n",
    "    'sqft_living_per_floor', 'bath_per_bed',\n",
    "    'bedrooms', 'bathrooms', 'floors', 'view'\n",
    "]\n",
    "\n",
    "categorical_features = ['zipcode']\n",
    "\n",
    "passthrough_features = ['grade', 'condition', 'was_renovated', 'sale_year', 'sale_month', 'waterfront']"
   ]
  },
  {
   "cell_type": "code",
   "execution_count": 43,
   "id": "8de1ec4b",
   "metadata": {},
   "outputs": [
    {
     "name": "stdout",
     "output_type": "stream",
     "text": [
      "Numeric features: ['sqft_living', 'sqft_lot', 'sqft_above', 'sqft_basement', 'lat', 'long', 'sqft_living15', 'sqft_lot15', 'house_age', 'age_since_renovation', 'sqft_living_per_floor', 'bath_per_bed', 'bedrooms', 'bathrooms', 'floors', 'view']\n",
      "Categorical features: ['zipcode']\n",
      "Passthrough features: ['grade', 'condition', 'was_renovated', 'sale_year', 'sale_month', 'waterfront']\n"
     ]
    }
   ],
   "source": [
    "existing = set(X_train.columns)\n",
    "numeric_features = [c for c in numeric_features if c in existing]\n",
    "categorical_features = [c for c in categorical_features if c in existing]\n",
    "passthrough_features = [c for c in passthrough_features if c in existing]\n",
    "\n",
    "print('Numeric features:', numeric_features)\n",
    "print('Categorical features:', categorical_features)\n",
    "print('Passthrough features:', passthrough_features)"
   ]
  },
  {
   "cell_type": "markdown",
   "id": "b338ea6b",
   "metadata": {},
   "source": [
    "#### 2. Create Preprocessing Pipelines for Each Type:\n",
    "#### ○ Numerical Pipeline: Create a Pipeline that first imputes missing values (using SimpleImputer with a median strategy) and then scales the data (using StandardScaler).\n",
    "#### ○ Categorical Pipeline: Create a Pipeline that applies OneHotEncoder to the zipcode column. Set handle_unknown='ignore' to prevent errors if the test set contains a zipcode not seen in the training set."
   ]
  },
  {
   "cell_type": "code",
   "execution_count": 70,
   "id": "34f7a73b",
   "metadata": {},
   "outputs": [],
   "source": [
    "from sklearn.pipeline import Pipeline\n",
    "from sklearn.preprocessing import StandardScaler\n",
    "from sklearn.impute import SimpleImputer\n",
    "from sklearn.preprocessing import OneHotEncoder\n",
    "\n",
    "num_pipeline = Pipeline([\n",
    "    (\"imputer\", SimpleImputer(strategy=\"median\")),\n",
    "    (\"scaler\", StandardScaler())\n",
    "])\n",
    "\n",
    "cat_pipeline = Pipeline([\n",
    "    (\"imputer\", SimpleImputer(strategy=\"most_frequent\")),\n",
    "    (\"encoder\", OneHotEncoder(handle_unknown=\"ignore\"))\n",
    "])"
   ]
  },
  {
   "cell_type": "markdown",
   "id": "d2bc0db2",
   "metadata": {},
   "source": [
    "#### 3. Combine Pipelines with ColumnTransformer:\n",
    "#### ○ Use ColumnTransformer to apply your numerical pipeline to the numerical columns, your categorical pipeline to the categorical columns, and specify 'passthrough' for the passthrough columns.\n",
    "#### ○ This ColumnTransformer will be the first step in your final modeling pipeline."
   ]
  },
  {
   "cell_type": "code",
   "execution_count": 45,
   "id": "d8e5f31a",
   "metadata": {},
   "outputs": [],
   "source": [
    "from sklearn.compose import ColumnTransformer\n",
    "\n",
    "preprocessor = ColumnTransformer([\n",
    "    ('num', num_pipeline, numeric_features),\n",
    "    ('cat', cat_pipeline, categorical_features),\n",
    "    ('pass', 'passthrough', passthrough_features)\n",
    "])"
   ]
  },
  {
   "cell_type": "markdown",
   "id": "2ab5d4f3",
   "metadata": {},
   "source": [
    "# Task 3: Model Training and Hyperparameter Tuning"
   ]
  },
  {
   "cell_type": "code",
   "execution_count": 46,
   "id": "06dd5955",
   "metadata": {},
   "outputs": [],
   "source": [
    "import numpy as np\n",
    "import pandas as pd\n",
    "from sklearn.model_selection import train_test_split, GridSearchCV\n",
    "from sklearn.pipeline import Pipeline\n",
    "from sklearn.ensemble import RandomForestRegressor, GradientBoostingRegressor\n",
    "from xgboost import XGBRegressor\n",
    "from sklearn.metrics import mean_squared_error, mean_absolute_error, r2_score"
   ]
  },
  {
   "cell_type": "code",
   "execution_count": 47,
   "id": "925769e6",
   "metadata": {},
   "outputs": [
    {
     "name": "stdout",
     "output_type": "stream",
     "text": [
      "\n",
      "Running GridSearch for RandomForest\n",
      "Fitting 3 folds for each of 4 candidates, totalling 12 fits\n",
      "RandomForest done. CV RMSE: 77801.89 | Test RMSE: 75599.23\n",
      "\n",
      "Running GridSearch for GradientBoosting\n",
      "Fitting 3 folds for each of 4 candidates, totalling 12 fits\n",
      "GradientBoosting done. CV RMSE: 73298.63 | Test RMSE: 72504.99\n",
      "\n",
      "Running GridSearch for XGBoost\n",
      "Fitting 3 folds for each of 6 candidates, totalling 18 fits\n",
      "XGBoost done. CV RMSE: 73154.42 | Test RMSE: 73224.22\n"
     ]
    },
    {
     "data": {
      "text/html": [
       "<div>\n",
       "<style scoped>\n",
       "    .dataframe tbody tr th:only-of-type {\n",
       "        vertical-align: middle;\n",
       "    }\n",
       "\n",
       "    .dataframe tbody tr th {\n",
       "        vertical-align: top;\n",
       "    }\n",
       "\n",
       "    .dataframe thead th {\n",
       "        text-align: right;\n",
       "    }\n",
       "</style>\n",
       "<table border=\"1\" class=\"dataframe\">\n",
       "  <thead>\n",
       "    <tr style=\"text-align: right;\">\n",
       "      <th></th>\n",
       "      <th>model</th>\n",
       "      <th>best_params</th>\n",
       "      <th>cv_rmse</th>\n",
       "      <th>test_r2</th>\n",
       "      <th>test_mae</th>\n",
       "      <th>test_rmse</th>\n",
       "    </tr>\n",
       "  </thead>\n",
       "  <tbody>\n",
       "    <tr>\n",
       "      <th>1</th>\n",
       "      <td>GradientBoosting</td>\n",
       "      <td>{'regressor__learning_rate': 0.1, 'regressor__...</td>\n",
       "      <td>73298.627041</td>\n",
       "      <td>0.874263</td>\n",
       "      <td>51597.739761</td>\n",
       "      <td>72504.993719</td>\n",
       "    </tr>\n",
       "    <tr>\n",
       "      <th>2</th>\n",
       "      <td>XGBoost</td>\n",
       "      <td>{'regressor__learning_rate': 0.1, 'regressor__...</td>\n",
       "      <td>73154.421619</td>\n",
       "      <td>0.871756</td>\n",
       "      <td>51442.758154</td>\n",
       "      <td>73224.222823</td>\n",
       "    </tr>\n",
       "    <tr>\n",
       "      <th>0</th>\n",
       "      <td>RandomForest</td>\n",
       "      <td>{'regressor__max_depth': None, 'regressor__n_e...</td>\n",
       "      <td>77801.894939</td>\n",
       "      <td>0.863302</td>\n",
       "      <td>52704.847602</td>\n",
       "      <td>75599.227674</td>\n",
       "    </tr>\n",
       "  </tbody>\n",
       "</table>\n",
       "</div>"
      ],
      "text/plain": [
       "              model                                        best_params  \\\n",
       "1  GradientBoosting  {'regressor__learning_rate': 0.1, 'regressor__...   \n",
       "2           XGBoost  {'regressor__learning_rate': 0.1, 'regressor__...   \n",
       "0      RandomForest  {'regressor__max_depth': None, 'regressor__n_e...   \n",
       "\n",
       "        cv_rmse   test_r2      test_mae     test_rmse  \n",
       "1  73298.627041  0.874263  51597.739761  72504.993719  \n",
       "2  73154.421619  0.871756  51442.758154  73224.222823  \n",
       "0  77801.894939  0.863302  52704.847602  75599.227674  "
      ]
     },
     "execution_count": 47,
     "metadata": {},
     "output_type": "execute_result"
    }
   ],
   "source": [
    "models = {\n",
    "    'RandomForest': RandomForestRegressor(n_estimators=100, random_state=42),\n",
    "    'GradientBoosting': GradientBoostingRegressor(n_estimators=100, random_state=42),\n",
    "    'XGBoost': XGBRegressor(n_estimators=100, random_state=42, verbosity=0)\n",
    "}\n",
    "\n",
    "grids = {\n",
    "    'RandomForest': {\n",
    "        'regressor__n_estimators': [200, 400],\n",
    "        'regressor__max_depth': [None, 20]\n",
    "    },\n",
    "    'GradientBoosting': {\n",
    "        'regressor__n_estimators': [200, 400],\n",
    "        'regressor__learning_rate': [0.05, 0.1]\n",
    "    },\n",
    "    'XGBoost': {\n",
    "        'regressor__max_depth': [3, 6, 10],\n",
    "        'regressor__learning_rate': [0.05, 0.1]\n",
    "    }\n",
    "}\n",
    "\n",
    "results = []\n",
    "best_overall = None\n",
    "best_overall_name = None\n",
    "best_overall_rmse_cv = np.inf\n",
    "best_overall_estimator = None\n",
    "\n",
    "for name, est in models.items():\n",
    "    pipe = Pipeline(steps=[('preprocessor', preprocessor), ('regressor', est)])\n",
    "    param_grid = grids[name]\n",
    "    print('\\nRunning GridSearch for', name)\n",
    "    gscv = GridSearchCV(pipe, param_grid=param_grid, cv=3, scoring='neg_root_mean_squared_error', n_jobs=-1, verbose=1)\n",
    "    gscv.fit(X_train, y_train)\n",
    "    best_cv_rmse = -gscv.best_score_\n",
    "    y_pred = gscv.predict(X_test)\n",
    "    test_r2 = r2_score(y_test, y_pred)\n",
    "    test_mae = mean_absolute_error(y_test, y_pred)\n",
    "    test_rmse = np.sqrt(mean_squared_error(y_test, y_pred))\n",
    "    results.append({\n",
    "        'model': name,\n",
    "        'best_params': gscv.best_params_,\n",
    "        'cv_rmse': best_cv_rmse,\n",
    "        'test_r2': test_r2,\n",
    "        'test_mae': test_mae,\n",
    "        'test_rmse': test_rmse\n",
    "    })\n",
    "    print(f\"{name} done. CV RMSE: {best_cv_rmse:.2f} | Test RMSE: {test_rmse:.2f}\")\n",
    "    if best_cv_rmse < best_overall_rmse_cv:\n",
    "        best_overall_rmse_cv = best_cv_rmse\n",
    "        best_overall = gscv\n",
    "        best_overall_name = name\n",
    "        best_overall_estimator = gscv.best_estimator_\n",
    "\n",
    "results = pd.DataFrame(results).sort_values('test_rmse')\n",
    "results.to_csv(f\"model_results.csv\", index=False)\n",
    "results"
   ]
  },
  {
   "cell_type": "code",
   "execution_count": 53,
   "id": "625e8389",
   "metadata": {},
   "outputs": [
    {
     "name": "stdout",
     "output_type": "stream",
     "text": [
      "Best model (by CV RMSE): XGBoost\n",
      "Test R2: 0.8718\n",
      "Test MAE: 51,442.76\n",
      "Test RMSE: 73,224.22\n"
     ]
    }
   ],
   "source": [
    "print('Best model (by CV RMSE):', best_overall_name)\n",
    "best = best_overall\n",
    "best_pipe = best_overall_estimator\n",
    "y_best = best.predict(X_test)\n",
    "final_r2 = r2_score(y_test, y_best)\n",
    "final_mae = mean_absolute_error(y_test, y_best)\n",
    "final_rmse = np.sqrt(mean_squared_error(y_test, y_best))\n",
    "print(f\"Test R2: {final_r2:.4f}\")\n",
    "print(f\"Test MAE: {final_mae:,.2f}\")\n",
    "print(f\"Test RMSE: {final_rmse:,.2f}\")"
   ]
  },
  {
   "cell_type": "code",
   "execution_count": 73,
   "id": "a5188926",
   "metadata": {},
   "outputs": [
    {
     "data": {
      "image/png": "[encoded data removed]",
      "text/plain": [
       "<Figure size 1000x600 with 1 Axes>"
      ]
     },
     "metadata": {},
     "output_type": "display_data"
    }
   ],
   "source": [
    "original_results = pd.read_csv('Original_results.csv')\n",
    "best_models_results = pd.read_csv('model_results.csv')\n",
    "\n",
    "original_results_renamed = original_results.rename(columns={\"Model\": \"Model\", \"RMSE\": \"RMSE_original\"})\n",
    "best_models_results_renamed = best_models_results.rename(columns={\"model\": \"Model\", \"test_rmse\": \"RMSE_tuned\"})\n",
    "\n",
    "comparison_df = pd.merge(original_results_renamed[['Model', 'RMSE_original']], \n",
    "                         best_models_results_renamed[['Model', 'RMSE_tuned']], \n",
    "                         on='Model', \n",
    "                         how='inner')\n",
    "\n",
    "comparison_df['RMSE_Improvement_%'] = 100 * (comparison_df['RMSE_original'] - comparison_df['RMSE_tuned']) / comparison_df['RMSE_original']\n",
    "\n",
    "plt.figure(figsize=(10, 6))\n",
    "bar_width = 0.35\n",
    "index = range(len(comparison_df))\n",
    "\n",
    "plt.bar(index, comparison_df['RMSE_original'], bar_width, label='Original RMSE')\n",
    "plt.bar([i + bar_width for i in index], comparison_df['RMSE_tuned'], bar_width, label='Tuned RMSE')\n",
    "\n",
    "plt.xlabel('Models')\n",
    "plt.ylabel('RMSE')\n",
    "plt.title('RMSE Comparison: Original vs Tuned Models')\n",
    "plt.xticks([i + bar_width/2 for i in index], comparison_df['Model'])\n",
    "plt.legend()\n",
    "plt.tight_layout()\n",
    "plt.show()"
   ]
  },
  {
   "cell_type": "code",
   "execution_count": 55,
   "id": "b1b3835e",
   "metadata": {},
   "outputs": [
    {
     "data": {
      "text/html": [
       "<div>\n",
       "<style scoped>\n",
       "    .dataframe tbody tr th:only-of-type {\n",
       "        vertical-align: middle;\n",
       "    }\n",
       "\n",
       "    .dataframe tbody tr th {\n",
       "        vertical-align: top;\n",
       "    }\n",
       "\n",
       "    .dataframe thead th {\n",
       "        text-align: right;\n",
       "    }\n",
       "</style>\n",
       "<table border=\"1\" class=\"dataframe\">\n",
       "  <thead>\n",
       "    <tr style=\"text-align: right;\">\n",
       "      <th></th>\n",
       "      <th>Model</th>\n",
       "      <th>RMSE_original</th>\n",
       "      <th>RMSE_tuned</th>\n",
       "      <th>RMSE_Improvement_%</th>\n",
       "    </tr>\n",
       "  </thead>\n",
       "  <tbody>\n",
       "    <tr>\n",
       "      <th>0</th>\n",
       "      <td>XGBoost</td>\n",
       "      <td>212131.231023</td>\n",
       "      <td>73224.222823</td>\n",
       "      <td>65.48164</td>\n",
       "    </tr>\n",
       "  </tbody>\n",
       "</table>\n",
       "</div>"
      ],
      "text/plain": [
       "     Model  RMSE_original    RMSE_tuned  RMSE_Improvement_%\n",
       "0  XGBoost  212131.231023  73224.222823            65.48164"
      ]
     },
     "execution_count": 55,
     "metadata": {},
     "output_type": "execute_result"
    }
   ],
   "source": [
    "comparison_df.head()"
   ]
  },
  {
   "cell_type": "code",
   "execution_count": 56,
   "id": "c0e882d9",
   "metadata": {},
   "outputs": [],
   "source": [
    "comparison_df.to_csv(\"Improvement_Report.csv\",index=False)"
   ]
  },
  {
   "cell_type": "markdown",
   "id": "3d94dabf",
   "metadata": {},
   "source": [
    "##### 3. Feature Importance:\n",
    "##### ○ If your best model was a tree based model (like RandomForest or XGBoost), extract and plot the feature importances.\n",
    "##### ○ Important: The feature names from the OneHotEncoder will be generic. You'll need to retrieve the original categorical feature names to make your plot interpretable.\n",
    "\n",
    "##### ○ Write a brief summary analyzing the top 5 most important features.Do they make sense? Are any of your engineered features in the top 5?\n"
   ]
  },
  {
   "cell_type": "code",
   "execution_count": 77,
   "id": "5dfa6839",
   "metadata": {},
   "outputs": [
    {
     "data": {
      "image/png": "[encoded data removed]",
      "text/plain": [
       "<Figure size 800x500 with 1 Axes>"
      ]
     },
     "metadata": {},
     "output_type": "display_data"
    },
    {
     "name": "stdout",
     "output_type": "stream",
     "text": [
      "Top 5 Important Features (Grouped):\n",
      "OriginalFeature\n",
      "zipcode    0.352750\n",
      "grade      0.219617\n",
      "sqft       0.156832\n",
      "lat        0.137939\n",
      "view       0.023671\n",
      "Name: Importance, dtype: float32\n"
     ]
    }
   ],
   "source": [
    "import warnings\n",
    "warnings.filterwarnings('ignore')\n",
    "\n",
    "pipe = best_overall_estimator  # use your best model's pipeline\n",
    "\n",
    "# Extract OneHotEncoder features\n",
    "ohe = pipe.named_steps['preprocessor'].named_transformers_['cat'].named_steps['encoder']\n",
    "cat_features = pipe.named_steps['preprocessor'].transformers_[1][2]\n",
    "ohe_features = list(ohe.get_feature_names_out(cat_features))\n",
    "\n",
    "# Get numerical + passthrough features\n",
    "num_features = pipe.named_steps['preprocessor'].transformers_[0][2]\n",
    "passthrough_features = pipe.named_steps['preprocessor'].transformers_[2][2]\n",
    "\n",
    "# Combine all feature names\n",
    "all_features = num_features + ohe_features + passthrough_features\n",
    "\n",
    "# Get feature importances from the regressor\n",
    "importances = pipe.named_steps['regressor'].feature_importances_\n",
    "feature_importances = pd.DataFrame({\n",
    "    'Feature': all_features,\n",
    "    'Importance': importances\n",
    "})\n",
    "\n",
    "# ✅ Map back to original feature (e.g., zipcode instead of zipcode_98004)\n",
    "feature_importances['OriginalFeature'] = feature_importances['Feature'].apply(lambda x: x.split('_')[0])\n",
    "\n",
    "# ✅ Group by original feature\n",
    "grouped_importances = feature_importances.groupby('OriginalFeature')['Importance'].sum().sort_values(ascending=False)\n",
    "\n",
    "# Plot top 5 original features\n",
    "plt.figure(figsize=(8,5))\n",
    "sns.barplot(x=grouped_importances.head(5).values,\n",
    "            y=grouped_importances.head(5).index,\n",
    "            palette='viridis')\n",
    "plt.title(\"Top 5 Most Important Original Features\", fontsize=14)\n",
    "plt.xlabel(\"Importance\")\n",
    "plt.ylabel(\"Feature\")\n",
    "plt.show()\n",
    "\n",
    "print(\"Top 5 Important Features (Grouped):\")\n",
    "print(grouped_importances.head(5))\n"
   ]
  },
  {
   "cell_type": "code",
   "execution_count": 78,
   "id": "180fccc7",
   "metadata": {},
   "outputs": [
    {
     "data": {
      "text/plain": [
       "'\\nTop 5 Most Important Features :- zipcode, grade, sqrt, lat, view\\n\\n1. zipcode :-\\n    zipcode refers to the area of the kings county. More rich area increases house prices and slum area decreases house prices.\\n    therefore, zipcode is the important feature for this model.\\n\\n2. grade :-\\n    grade focuses on construction and quality of house. more grades means better house quality increases house price.\\n    hence, grade is second most important feature for this model.\\n\\n3. sqrt :-\\n    sqrt is directly proportional to price. As sqrt increases price increases.\\n\\n4. lat :-\\n    lat refers to latitude or geography of the house. it is also most important feature for this model.\\n\\n5. view :-\\n    House with view like garden, open area, mountains typically refers to a premium house.\\n    it is also most important feature.\\n'"
      ]
     },
     "execution_count": 78,
     "metadata": {},
     "output_type": "execute_result"
    }
   ],
   "source": [
    "'''\n",
    "Top 5 Most Important Features :- zipcode, grade, sqrt, lat, view\n",
    "\n",
    "1. zipcode :-\n",
    "    zipcode refers to the area of the kings county. More rich area increases house prices and slum area decreases house prices.\n",
    "    therefore, zipcode is the important feature for this model.\n",
    "\n",
    "2. grade :-\n",
    "    grade focuses on construction and quality of house. more grades means better house quality increases house price.\n",
    "    hence, grade is second most important feature for this model.\n",
    "\n",
    "3. sqrt :-\n",
    "    sqrt is directly proportional to price. As sqrt increases price increases.\n",
    "\n",
    "4. lat :-\n",
    "    lat refers to latitude or geography of the house. it is also most important feature for this model.\n",
    "\n",
    "5. view :-\n",
    "    House with view like garden, open area, mountains typically refers to a premium house.\n",
    "    it is also most important feature.\n",
    "'''"
   ]
  }
 ],
 "metadata": {
  "kernelspec": {
   "display_name": "base",
   "language": "python",
   "name": "python3"
  },
  "language_info": {
   "codemirror_mode": {
    "name": "ipython",
    "version": 3
   },
   "file_extension": ".py",
   "mimetype": "text/x-python",
   "name": "python",
   "nbconvert_exporter": "python",
   "pygments_lexer": "ipython3",
   "version": "3.13.5"
  }
 },
 "nbformat": 4,
 "nbformat_minor": 5
}
